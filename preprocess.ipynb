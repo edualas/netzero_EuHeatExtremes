{
 "cells": [
  {
   "cell_type": "markdown",
   "id": "1abaea9f-9cb0-42b7-8b65-cdaa42823f10",
   "metadata": {
    "collapsed": true,
    "execution": {
     "iopub.execute_input": "2024-10-17T22:48:24.253311Z",
     "iopub.status.busy": "2024-10-17T22:48:24.252696Z",
     "iopub.status.idle": "2024-10-17T22:48:55.033560Z",
     "shell.execute_reply": "2024-10-17T22:48:55.032140Z",
     "shell.execute_reply.started": "2024-10-17T22:48:24.253257Z"
    },
    "jupyter": {
     "outputs_hidden": true
    },
    "scrolled": true
   },
   "source": [
    "<b><i> preprocess </i></b>\n",
    "\n",
    "Created by Eduardo Alastrué de Asenjo \n",
    "\n",
    "- Purpose: preprocess data before analysis for paper \"European heat extremes under net-zero emissions\"\n",
    "- Data: Model data from ACCESS-ESM-1.5 & reanalysis data from ERA5\n",
    "- Packages: use xarray with dask to handle data, xclim for computing the extreme indices\n",
    "- Comments: It originally runs on Gadi, NCI's HPC, using conda env:analysis3 kernel"
   ]
  },
  {
   "cell_type": "markdown",
   "id": "a6a76e2d-2111-416f-809a-d81f33299b11",
   "metadata": {
    "execution": {
     "iopub.execute_input": "2024-10-18T00:40:53.965819Z",
     "iopub.status.busy": "2024-10-18T00:40:53.965232Z",
     "iopub.status.idle": "2024-10-18T00:40:53.979679Z",
     "shell.execute_reply": "2024-10-18T00:40:53.977955Z",
     "shell.execute_reply.started": "2024-10-18T00:40:53.965760Z"
    }
   },
   "source": [
    "# Initialisation"
   ]
  },
  {
   "cell_type": "markdown",
   "id": "e6e452a7-0a9a-49cb-9198-bd3b1a5840f1",
   "metadata": {},
   "source": [
    "Load modules"
   ]
  },
  {
   "cell_type": "code",
   "execution_count": 1,
   "id": "0b641647-e5cb-4a8b-b36c-a6040cedba3a",
   "metadata": {
    "execution": {
     "iopub.execute_input": "2025-05-16T13:24:39.531590Z",
     "iopub.status.busy": "2025-05-16T13:24:39.529745Z",
     "iopub.status.idle": "2025-05-16T13:25:08.336837Z",
     "shell.execute_reply": "2025-05-16T13:25:08.336034Z",
     "shell.execute_reply.started": "2025-05-16T13:24:39.531521Z"
    }
   },
   "outputs": [],
   "source": [
    "import numpy as np\n",
    "import matplotlib.pyplot as plt\n",
    "import matplotlib.patches as mpatches\n",
    "import matplotlib.lines as mlines\n",
    "import matplotlib.colors as mcolors\n",
    "from matplotlib.gridspec import GridSpec\n",
    "import matplotlib.path as mpath\n",
    "import seaborn as sns\n",
    "import cartopy.crs as ccrs\n",
    "import cartopy.feature as cfeature\n",
    "import os\n",
    "import subprocess\n",
    "import math as math\n",
    "import netCDF4 as nc\n",
    "from scipy import stats\n",
    "from random import choices\n",
    "import copy\n",
    "import xarray as xr\n",
    "import pandas as pd\n",
    "import datetime\n",
    "import cftime\n",
    "from tqdm import tqdm\n",
    "import glob\n",
    "import pickle\n",
    "import cdo\n",
    "import statsmodels.api as sm \n",
    "import warnings\n",
    "import pylab as py \n",
    "import regionmask\n",
    "import xclim as xc\n",
    "import logging # supress flox info messages \n",
    "logging.getLogger('flox').setLevel(logging.WARNING)\n",
    "from IPython.core.magic import register_cell_magic # Custom magic command for cell running time \n",
    "import time\n",
    "@register_cell_magic\n",
    "def timing(line, cell):\n",
    "    start_time = time.time()\n",
    "    exec(cell, globals())\n",
    "    end_time = time.time()\n",
    "    print(f\"Cell run at: {datetime.datetime.now().strftime('%Y-%m-%d %H:%M:%S')}, Exec. time: {end_time - start_time:.2f} seconds\")"
   ]
  },
  {
   "cell_type": "markdown",
   "id": "963aff53-6158-4de4-b0ed-26183a21abef",
   "metadata": {},
   "source": [
    "load functions"
   ]
  },
  {
   "cell_type": "code",
   "execution_count": 2,
   "id": "bcd0f2a2-88df-44d6-9576-69cac8ab819c",
   "metadata": {
    "execution": {
     "iopub.execute_input": "2025-05-16T13:25:08.337992Z",
     "iopub.status.busy": "2025-05-16T13:25:08.337864Z",
     "iopub.status.idle": "2025-05-16T13:25:08.342597Z",
     "shell.execute_reply": "2025-05-16T13:25:08.341876Z",
     "shell.execute_reply.started": "2025-05-16T13:25:08.337978Z"
    }
   },
   "outputs": [],
   "source": [
    "def weighted_mon_to_year_mean(ds, var):\n",
    "    \"\"\"\n",
    "    weight by days in each month when doing annual mean from monthly values in xarray\n",
    "    taken from https://ncar.github.io/esds/posts/2021/yearly-averages-xarray/\n",
    "    \"\"\"\n",
    "    month_length = ds.time.dt.days_in_month # Determine the month length\n",
    "\n",
    "    wgts = month_length.groupby(\"time.year\") / month_length.groupby(\"time.year\").sum() # Calculate the weights\n",
    "\n",
    "    np.testing.assert_allclose(wgts.groupby(\"time.year\").sum(xr.ALL_DIMS), 1.0) # Make sure the weights in each year add up to 1\n",
    "\n",
    "    obs = ds[var] # Subset our dataset for our variable\n",
    "\n",
    "    cond = obs.isnull() # Setup our masking for nan values\n",
    "    ones = xr.where(cond, 0.0, 1.0)\n",
    "    \n",
    "    obs_sum = (obs * wgts).resample(time=\"YS\").sum(dim=\"time\") # Calculate the numerator\n",
    "    ones_out = (ones * wgts).resample(time=\"YS\").sum(dim=\"time\") # Calculate the denominator\n",
    "\n",
    "    return obs_sum / ones_out # Return the weighted average"
   ]
  },
  {
   "cell_type": "markdown",
   "id": "99556c6b-2196-4ff5-8d8a-710c824b0855",
   "metadata": {},
   "source": [
    "start dask cluster"
   ]
  },
  {
   "cell_type": "code",
   "execution_count": null,
   "id": "900f66f8-c7ec-4dc1-9127-95c2dc89ad74",
   "metadata": {
    "scrolled": true
   },
   "outputs": [],
   "source": [
    "# local cluster\n",
    "from dask.distributed import Client\n",
    "client = Client(memory_limit=None, threads_per_worker=1, n_workers=18)"
   ]
  },
  {
   "cell_type": "markdown",
   "id": "99dcee53-ef6a-47ec-bde8-d67e9d4e916a",
   "metadata": {},
   "source": [
    "# stab runs"
   ]
  },
  {
   "cell_type": "markdown",
   "id": "1f1cd207-321f-47d0-857f-baefc3d94ac4",
   "metadata": {
    "execution": {
     "iopub.execute_input": "2025-05-16T13:44:55.850018Z",
     "iopub.status.busy": "2025-05-16T13:44:55.849160Z",
     "iopub.status.idle": "2025-05-16T13:44:56.715705Z",
     "shell.execute_reply": "2025-05-16T13:44:56.714599Z",
     "shell.execute_reply.started": "2025-05-16T13:44:55.849958Z"
    }
   },
   "source": [
    "tas"
   ]
  },
  {
   "cell_type": "code",
   "execution_count": 3,
   "id": "ffe55323-d03b-4e12-8bd7-aa047fa29fd1",
   "metadata": {
    "execution": {
     "iopub.execute_input": "2025-05-16T13:39:37.077773Z",
     "iopub.status.busy": "2025-05-16T13:39:37.076972Z",
     "iopub.status.idle": "2025-05-16T13:40:22.669862Z",
     "shell.execute_reply": "2025-05-16T13:40:22.669063Z",
     "shell.execute_reply.started": "2025-05-16T13:39:37.077720Z"
    }
   },
   "outputs": [],
   "source": [
    "stab_postpro_path = \"/g/data/ob22/as8561/data/enso_trans_stable/stable_runs/tas_field/\"\n",
    "tas_mon_sta2030 = xr.open_dataset(f\"{stab_postpro_path}fld_s03i236_PI-GWL-B2030_mon.nc\", chunks={'time': 2000}, use_cftime=True).assign_coords(exp=2030)\n",
    "tas_mon_sta2035 = xr.open_dataset(f\"{stab_postpro_path}fld_s03i236_PI-GWL-B2035_mon.nc\", chunks={'time': 2000}, use_cftime=True).assign_coords(exp=2035)\n",
    "tas_mon_sta2040 = xr.open_dataset(f\"{stab_postpro_path}fld_s03i236_PI-GWL-B2040_mon.nc\", chunks={'time': 2000}, use_cftime=True).assign_coords(exp=2040)\n",
    "tas_mon_sta2045 = xr.open_dataset(f\"{stab_postpro_path}fld_s03i236_PI-GWL-B2045_mon.nc\", chunks={'time': 2000}, use_cftime=True).assign_coords(exp=2045)\n",
    "tas_mon_sta2050 = xr.open_dataset(f\"{stab_postpro_path}fld_s03i236_PI-GWL-B2050_mon.nc\", chunks={'time': 2000}, use_cftime=True).assign_coords(exp=2050)\n",
    "tas_mon_sta2055 = xr.open_dataset(f\"{stab_postpro_path}fld_s03i236_PI-GWL-B2055_mon.nc\", chunks={'time': 2000}, use_cftime=True).assign_coords(exp=2055)\n",
    "tas_mon_sta2060 = xr.open_dataset(f\"{stab_postpro_path}fld_s03i236_PI-GWL-B2060_mon.nc\", chunks={'time': 2000}, use_cftime=True).assign_coords(exp=2060)\n",
    "\n",
    "mon_arrays = [tas_mon_sta2030,tas_mon_sta2035,tas_mon_sta2040,tas_mon_sta2045,tas_mon_sta2050,tas_mon_sta2055,tas_mon_sta2060]\n",
    "tas_mon_sta = xr.concat(mon_arrays, dim='exp')\n",
    "\n",
    "def subtract_100_years(time):\n",
    "    return cftime.DatetimeGregorian(time.year - 100, time.month, time.day, time.hour, time.minute, time.second, time.microsecond)\n",
    "new_times = [subtract_100_years(t) for t in tas_mon_sta['time'].values]\n",
    "tas_mon_sta['time'] = new_times\n",
    "tas_yr_sta = weighted_mon_to_year_mean(tas_mon_sta, 'fld_s03i236')"
   ]
  },
  {
   "cell_type": "code",
   "execution_count": 5,
   "id": "eb78a19a-ea1d-4287-8147-a68e7a5e234e",
   "metadata": {
    "execution": {
     "iopub.execute_input": "2025-05-16T13:41:55.546512Z",
     "iopub.status.busy": "2025-05-16T13:41:55.545705Z",
     "iopub.status.idle": "2025-05-16T13:44:05.350163Z",
     "shell.execute_reply": "2025-05-16T13:44:05.349035Z",
     "shell.execute_reply.started": "2025-05-16T13:41:55.546458Z"
    }
   },
   "outputs": [],
   "source": [
    "tas_yr_sta.to_netcdf(f\"/scratch/p66/ea1694/data/stab_runs/tas_yr_sta.nc\")"
   ]
  },
  {
   "cell_type": "markdown",
   "id": "9bfbd5c0-6d3b-4bca-a2e2-c77cffd66999",
   "metadata": {},
   "source": [
    "tasmax"
   ]
  },
  {
   "cell_type": "code",
   "execution_count": null,
   "id": "8e279aae-e462-47aa-90e2-bb01664f397d",
   "metadata": {},
   "outputs": [],
   "source": [
    "%%timing\n",
    "year = 2030\n",
    "def _preprocess(ds):\n",
    "    return ds['fld_s03i236_max']\n",
    "for i in tqdm(range(1, 12)):\n",
    "    century = f\"{i:02}\"\n",
    "    files = glob.glob(f\"/g/data/p73/archive/non-CMIP/ACCESS-ESM1-5/PI-GWL-t6/history/atm/netCDF/*pe-{century}*dai.nc\") # name is different!\n",
    "    ds = xr.open_mfdataset(files, preprocess=_preprocess, parallel=True, chunks={'time': 1200}, use_cftime=True)\n",
    "    ds = ds.drop_vars(['height']).rename({'fld_s03i236_max': 'tasmax'})\n",
    "    ds = ds.load()\n",
    "    ds.to_netcdf(f\"/g/data/ob22/ea1694/data/stab_runs/tasmaxday/tasmax_PI-GWL-B{year}_{century}00s.nc\")"
   ]
  },
  {
   "cell_type": "code",
   "execution_count": null,
   "id": "2f60a22a-e3e6-492e-918f-1379bb11b70c",
   "metadata": {
    "scrolled": true
   },
   "outputs": [],
   "source": [
    "%%timing\n",
    "year = 2040 #2035, 2040, 2045, 2050, 2055, 2060\n",
    "def _preprocess(ds):\n",
    "    return ds['fld_s03i236_max']\n",
    "for i in tqdm(range(1, 12)):\n",
    "    century = f\"{i:02}\"\n",
    "    files = glob.glob(f\"/g/data/p73/archive/non-CMIP/ACCESS-ESM1-5/PI-GWL-B{year}/history/atm/netCDF/*pe-{century}*dai.nc\")\n",
    "    ds = xr.open_mfdataset(files, preprocess=_preprocess, parallel=True, chunks={'time': 1200}, use_cftime=True)\n",
    "    ds = ds.drop_vars(['height']).rename({'fld_s03i236_max': 'tasmax'})\n",
    "    ds = ds.load()\n",
    "    ds.to_netcdf(f\"/g/data/ob22/ea1694/data/stab_runs/tasmaxday/tasmax_PI-GWL-B{year}_{century}00s.nc\")"
   ]
  },
  {
   "cell_type": "markdown",
   "id": "71bc45be-7cf5-4a49-8708-5bf52bf88278",
   "metadata": {},
   "source": [
    "Load all and calculate TXx index"
   ]
  },
  {
   "cell_type": "code",
   "execution_count": null,
   "id": "6eb85400-afe3-4c4b-99aa-3ce2235b63d2",
   "metadata": {},
   "outputs": [],
   "source": [
    "%%timing\n",
    "path = \"/g/data/ob22/ea1694/data/stab_runs/tasmaxday/\"\n",
    "tasmax_day_sta2030 = xr.open_mfdataset(f\"{path}tasmax_PI-GWL-B2030_*00s.nc\", use_cftime=True).assign_coords(exp=2030)\n",
    "tasmax_day_sta2035 = xr.open_mfdataset(f\"{path}tasmax_PI-GWL-B2035_*00s.nc\", use_cftime=True).assign_coords(exp=2035)\n",
    "tasmax_day_sta2040 = xr.open_mfdataset(f\"{path}tasmax_PI-GWL-B2040_*00s.nc\", use_cftime=True).assign_coords(exp=2040)\n",
    "tasmax_day_sta2045 = xr.open_mfdataset(f\"{path}tasmax_PI-GWL-B2045_*00s.nc\", use_cftime=True).assign_coords(exp=2045)\n",
    "tasmax_day_sta2050 = xr.open_mfdataset(f\"{path}tasmax_PI-GWL-B2050_*00s.nc\", use_cftime=True).assign_coords(exp=2050)\n",
    "tasmax_day_sta2055 = xr.open_mfdataset(f\"{path}tasmax_PI-GWL-B2055_*00s.nc\", use_cftime=True).assign_coords(exp=2055)\n",
    "tasmax_day_sta2060 = xr.open_mfdataset(f\"{path}tasmax_PI-GWL-B2060_*00s.nc\", use_cftime=True).assign_coords(exp=2060)\n",
    "\n",
    "day_arrays = [tasmax_day_sta2030,tasmax_day_sta2035,tasmax_day_sta2040,tasmax_day_sta2045,tasmax_day_sta2050,tasmax_day_sta2055,tasmax_day_sta2060]\n",
    "tasmax_day_sta = xr.concat(day_arrays, dim='exp')\n",
    "\n",
    "def subtract_100_years(time): # start years experiment at year 0\n",
    "    return cftime.DatetimeGregorian(time.year - 100, time.month, time.day, time.hour, time.minute, time.second, time.microsecond)\n",
    "new_times = [subtract_100_years(t) for t in tasmax_day_sta['time'].values]\n",
    "tasmax_day_sta['time'] = new_times\n",
    "tasmax_day_sta.coords['lon'] = (tasmax_day_sta.coords['lon'] + 180) % 360 - 180 # center longitudes at 0\n",
    "tasmax_day_sta = tasmax_day_sta.sortby(tasmax_day_sta.lon)"
   ]
  },
  {
   "cell_type": "code",
   "execution_count": null,
   "id": "86a6c2dc-2e4b-4d9e-9270-47931a743910",
   "metadata": {},
   "outputs": [],
   "source": [
    "txx_year = xc.indices.tx_max(tasmax_day_sta.tasmax, freq='YS')\n",
    "txx_year = txx_year.compute()\n",
    "txx_year.to_netcdf(f\"/g/data/ob22/ea1694/data/stab_runs/indices/txx_year.nc\")"
   ]
  },
  {
   "cell_type": "code",
   "execution_count": null,
   "id": "fdd496b5-5e6c-40a6-9021-1ccdf87a7739",
   "metadata": {},
   "outputs": [],
   "source": [
    "txx_mon = xc.indices.tx_max(tasmax_day_sta.tasmax, freq='MS')\n",
    "txx_mon = txx_mon.compute()\n",
    "txx_mon.to_netcdf(f\"/g/data/ob22/ea1694/data/stab_runs/indices/txx_mon.nc\")"
   ]
  },
  {
   "cell_type": "markdown",
   "id": "36b704b9-4970-41f5-95f0-52dbd7c330b7",
   "metadata": {},
   "source": [
    "Load stab & hist tasmax and calculate TX90p index wrt 1961-1990"
   ]
  },
  {
   "cell_type": "code",
   "execution_count": null,
   "id": "b9adeaa6-1c36-42db-831d-ca27922f2c02",
   "metadata": {
    "editable": true,
    "slideshow": {
     "slide_type": ""
    },
    "tags": []
   },
   "outputs": [],
   "source": [
    "%%timing\n",
    "path_hist = {'historical': '/g/data/fs38/publications/CMIP6/CMIP/CSIRO/ACCESS-ESM1-5/historical/'}\n",
    "array = []\n",
    "for i in range(1,41):\n",
    "    rea = \"r\"+str(i)+\"i1p1f1\"\n",
    "    if os.path.isdir(f'{path_hist[\"historical\"]}/{rea}'):\n",
    "        infiles = glob.glob(f'{path_hist[\"historical\"]}/{rea}/day/tasmax/gn/latest/*.nc', recursive=True)\n",
    "        array.append(xr.open_mfdataset(infiles, use_cftime=True, data_vars=\"minimal\", coords=\"minimal\", chunks={'time': 1000}, parallel=True, compat=\"override\").assign_coords(realiz=rea)) \n",
    "tasmax_day_hist = xr.concat(array, dim='realiz')\n",
    "tasmax_day_hist.coords['lon'] = (tasmax_day_hist.coords['lon'] + 180) % 360 - 180 # center longitudes at 0\n",
    "tasmax_day_hist = tasmax_day_hist.sortby(tasmax_day_hist.lon)\n",
    "tasmax_day_histref1960 = tasmax_day_hist.sel(time=slice(cftime.DatetimeProlepticGregorian(1961, 1, 1),cftime.DatetimeProlepticGregorian(1990, 12, 31)))"
   ]
  },
  {
   "cell_type": "code",
   "execution_count": null,
   "id": "b2b2014f-cc92-43ed-98f2-771d9cb74067",
   "metadata": {
    "scrolled": true
   },
   "outputs": [],
   "source": [
    "from xclim.core.calendar import percentile_doy\n",
    "\n",
    "tasmax_histref1960_per90 = percentile_doy(tasmax_day_histref1960.tasmax, per=90).sel(percentiles=90).mean(\"realiz\")\n",
    "tasmax_histref1960_per90 = tasmax_histref1960_per90.compute()\n",
    "tasmax_histref1960_per90.attrs[\"units\"] = \"K\"\n",
    "tasmax_histref1960_per90.to_netcdf(f\"/scratch/p66/ea1694/data/stab_runs/indices/tasmax_histref1960_per90.nc\")"
   ]
  },
  {
   "cell_type": "code",
   "execution_count": null,
   "id": "2fc9736a-29f5-46fa-b043-89e2e4757edb",
   "metadata": {},
   "outputs": [],
   "source": [
    "%%timing\n",
    "path = \"/scratch/p66/txz599/processed_output/data/stab_runs/tasmaxday/\"\n",
    "tasmax_day_sta2030 = xr.open_mfdataset(f\"{path}tasmax_PI-GWL-B2030_*00s.nc\", use_cftime=True).assign_coords(exp=2030)\n",
    "tasmax_day_sta2035 = xr.open_mfdataset(f\"{path}tasmax_PI-GWL-B2035_*00s.nc\", use_cftime=True).assign_coords(exp=2035)\n",
    "tasmax_day_sta2040 = xr.open_mfdataset(f\"{path}tasmax_PI-GWL-B2040_*00s.nc\", use_cftime=True).assign_coords(exp=2040)\n",
    "tasmax_day_sta2045 = xr.open_mfdataset(f\"{path}tasmax_PI-GWL-B2045_*00s.nc\", use_cftime=True).assign_coords(exp=2045)\n",
    "tasmax_day_sta2050 = xr.open_mfdataset(f\"{path}tasmax_PI-GWL-B2050_*00s.nc\", use_cftime=True).assign_coords(exp=2050)\n",
    "tasmax_day_sta2055 = xr.open_mfdataset(f\"{path}tasmax_PI-GWL-B2055_*00s.nc\", use_cftime=True).assign_coords(exp=2055)\n",
    "tasmax_day_sta2060 = xr.open_mfdataset(f\"{path}tasmax_PI-GWL-B2060_*00s.nc\", use_cftime=True).assign_coords(exp=2060)\n",
    "\n",
    "day_arrays = [tasmax_day_sta2030,tasmax_day_sta2035,tasmax_day_sta2040,tasmax_day_sta2045,tasmax_day_sta2050,tasmax_day_sta2055,tasmax_day_sta2060]\n",
    "tasmax_day_sta = xr.concat(day_arrays, dim='exp')\n",
    "\n",
    "def subtract_100_years(time): # start years experiment at year 0\n",
    "    return cftime.DatetimeGregorian(time.year - 100, time.month, time.day, time.hour, time.minute, time.second, time.microsecond)\n",
    "new_times = [subtract_100_years(t) for t in tasmax_day_sta['time'].values]\n",
    "tasmax_day_sta['time'] = new_times\n",
    "tasmax_day_sta.coords['lon'] = (tasmax_day_sta.coords['lon'] + 180) % 360 - 180 # center longitudes at 0\n",
    "tasmax_day_sta = tasmax_day_sta.sortby(tasmax_day_sta.lon)"
   ]
  },
  {
   "cell_type": "code",
   "execution_count": null,
   "id": "21def54c-cdb2-436f-8db4-cb2cf40dff6a",
   "metadata": {
    "scrolled": true
   },
   "outputs": [],
   "source": [
    "from xclim.indices import tx90p\n",
    "for exp in tasmax_day_sta.exp.values:\n",
    "    for sta in [1, 101, 201, 301, 401, 501, 601, 701, 801, 901]:\n",
    "        tasmax = tasmax_day_sta.sel(exp=exp, drop=True).tasmax.sel(time=slice(cftime.DatetimeProlepticGregorian(sta, 1, 1), cftime.DatetimeProlepticGregorian(sta+99, 12, 31))).load()\n",
    "        tx90p_yr = tx90p(tasmax, tasmax_histref1960_per90, freq='YS')\n",
    "        tx90p_yr.to_netcdf(f\"/scratch/p66/ea1694/data/stab_runs/indices/tx90p/tx90p_yr_NZ{exp}_{sta+99}.nc\")"
   ]
  },
  {
   "cell_type": "markdown",
   "id": "0ce7c77b-6ccc-45c3-bc0e-92da8d7ff0be",
   "metadata": {},
   "source": [
    "# cmip6"
   ]
  },
  {
   "cell_type": "code",
   "execution_count": null,
   "id": "b9f4b9cf-4ce9-410d-b72e-0986c18172ec",
   "metadata": {},
   "outputs": [],
   "source": [
    "path_ssp = {\n",
    "    'ssp585': '/g/data/fs38/publications/CMIP6/ScenarioMIP/CSIRO/ACCESS-ESM1-5/ssp585/'\n",
    "}\n",
    "\n",
    "path_hist = {\n",
    "    'historical': '/g/data/fs38/publications/CMIP6/CMIP/CSIRO/ACCESS-ESM1-5/historical/'\n",
    "}"
   ]
  },
  {
   "cell_type": "markdown",
   "id": "f7bf5261-7bf3-4f51-8a26-9ee077457575",
   "metadata": {},
   "source": [
    "historical"
   ]
  },
  {
   "cell_type": "code",
   "execution_count": null,
   "id": "2bbf9df7-e5a4-49cc-96f8-8dc68837ed42",
   "metadata": {
    "editable": true,
    "slideshow": {
     "slide_type": ""
    },
    "tags": []
   },
   "outputs": [],
   "source": [
    "%%timing\n",
    "array = []\n",
    "for i in range(1,41):\n",
    "    rea = \"r\"+str(i)+\"i1p1f1\"\n",
    "    if os.path.isdir(f'{path_hist[\"historical\"]}/{rea}'):\n",
    "        infiles = glob.glob(f'{path_hist[\"historical\"]}/{rea}/day/tasmax/gn/latest/*.nc', recursive=True)\n",
    "        array.append(xr.open_mfdataset(infiles, use_cftime=True, data_vars=\"minimal\", coords=\"minimal\", chunks={'time': 1000}, parallel=True, compat=\"override\").assign_coords(realiz=rea)) \n",
    "tasmax_day_hist = xr.concat(array, dim='realiz')\n",
    "tasmax_day_hist.coords['lon'] = (tasmax_day_hist.coords['lon'] + 180) % 360 - 180 # center longitudes at 0\n",
    "tasmax_day_hist = tasmax_day_hist.sortby(tasmax_day_hist.lon)"
   ]
  },
  {
   "cell_type": "code",
   "execution_count": null,
   "id": "b13e38b5-5b64-43a2-af27-57b46f1b5e91",
   "metadata": {},
   "outputs": [],
   "source": [
    "%%timing\n",
    "# yearly TXx index \n",
    "txx_year_hist = xc.indices.tx_max(tasmax_day_hist.tasmax, freq='YS')\n",
    "txx_year_hist = txx_year_hist.compute()\n",
    "txx_year_hist.to_netcdf(f\"/g/data/ob22/ea1694/data/ACCESS-ESM1.5/scenarios/indices/txx_year_hist.nc\")"
   ]
  },
  {
   "cell_type": "code",
   "execution_count": null,
   "id": "f7926def-ba17-46b4-9587-c2a2e8a1e1c7",
   "metadata": {},
   "outputs": [],
   "source": [
    "%%timing\n",
    "# monthly TXx index \n",
    "txx_mon_hist = xc.indices.tn_max(tasmax_day_hist.tasmax, freq='MS')\n",
    "txx_mon_hist = txx_mon_hist.compute()\n",
    "txx_mon_hist.to_netcdf(f\"/g/data/ob22/ea1694/data/ACCESS-ESM1.5/scenarios/indices/txx_mon_hist.nc\")"
   ]
  },
  {
   "cell_type": "code",
   "execution_count": null,
   "id": "ea60d2d2-5656-4304-9722-5362e17cebbe",
   "metadata": {},
   "outputs": [],
   "source": [
    "%%timing\n",
    "# yearly TX90p\n",
    "from xclim.indices import tx90p\n",
    "tasmax_histref1960_per90 = xr.open_mfdataset(f\"/scratch/p66/ea1694/data/stab_runs/indices/tasmax_histref1960_per90.nc\", use_cftime=True).per\n",
    "tasmax_histref1960_per90 = tasmax_histref1960_per90.load()\n",
    "\n",
    "for rea in tqdm(tasmax_day_hist.realiz.values):\n",
    "    tasmax = tasmax_day_hist.sel(realiz=rea, drop=True).tasmax.load()\n",
    "    tx90p_yr_hist = tx90p(tasmax, tasmax_histref1960_per90, freq='YS')\n",
    "    tx90p_yr_hist.to_netcdf(f\"/scratch/p66/ea1694/data/stab_runs/indices/tx90p/tx90p_yr_hist_{rea}.nc\")"
   ]
  },
  {
   "cell_type": "markdown",
   "id": "a1919d07-c8d8-46ff-837d-5e1e28501e57",
   "metadata": {},
   "source": [
    "ssp585"
   ]
  },
  {
   "cell_type": "code",
   "execution_count": null,
   "id": "35fcb24f-a9cc-4052-a2ba-3a4423309139",
   "metadata": {
    "editable": true,
    "slideshow": {
     "slide_type": ""
    },
    "tags": []
   },
   "outputs": [],
   "source": [
    "%%timing\n",
    "array = []\n",
    "for i in range(1,41):\n",
    "    rea = \"r\"+str(i)+\"i1p1f1\"\n",
    "    if os.path.isdir(f'{path_ssp[\"ssp585\"]}/{rea}'):\n",
    "        infiles = glob.glob(f'{path_ssp[\"ssp585\"]}/{rea}/day/tasmax/gn/latest/*gn_20*.nc', recursive=True)\n",
    "        array.append(xr.open_mfdataset(infiles, use_cftime=True, data_vars=\"minimal\", coords=\"minimal\", chunks={'time': 1000}, parallel=True, compat=\"override\").assign_coords(realiz=rea)) \n",
    "tasmax_day_ssp585 = xr.concat(array, dim='realiz')\n",
    "tasmax_day_ssp585.coords['lon'] = (tasmax_day_ssp585.coords['lon'] + 180) % 360 - 180 # center longitudes at 0\n",
    "tasmax_day_ssp585 = tasmax_day_ssp585.sortby(tasmax_day_ssp585.lon)"
   ]
  },
  {
   "cell_type": "code",
   "execution_count": null,
   "id": "981dd453-90b2-4b67-bdb0-63126b909510",
   "metadata": {},
   "outputs": [],
   "source": [
    "%%timing\n",
    "# yearly TXx index \n",
    "txx_year_ssp585 = xc.indices.tx_max(tasmax_day_ssp585.tasmax, freq='YS')\n",
    "txx_year_ssp585 = txx_year_ssp585.compute()\n",
    "txx_year_ssp585.to_netcdf(f\"/g/data/ob22/ea1694/data/ACCESS-ESM1.5/scenarios/indices/txx_year_ssp585.nc\")"
   ]
  },
  {
   "cell_type": "code",
   "execution_count": null,
   "id": "b7721f60-2dd3-4520-8975-27fcaf65b002",
   "metadata": {},
   "outputs": [],
   "source": [
    "%%timing\n",
    "# monthly TXx index \n",
    "txx_mon_ssp585 = xc.indices.tn_max(tasmax_day_ssp585.tasmax, freq='MS')\n",
    "txx_mon_ssp585 = txx_mon_ssp585.compute()\n",
    "txx_mon_ssp585.to_netcdf(f\"/g/data/ob22/ea1694/data/ACCESS-ESM1.5/scenarios/indices/txx_mon_ssp585.nc\")"
   ]
  },
  {
   "cell_type": "code",
   "execution_count": null,
   "id": "15836f16-5d3a-4a66-beb1-44b7ca684b6f",
   "metadata": {},
   "outputs": [],
   "source": [
    "%%timing\n",
    "# yearly TX90p\n",
    "from xclim.indices import tx90p\n",
    "tasmax_histref1960_per90 = xr.open_mfdataset(f\"/scratch/p66/ea1694/data/stab_runs/indices/tasmax_histref1960_per90.nc\", use_cftime=True).per\n",
    "tasmax_histref1960_per90 = tasmax_histref1960_per90.load()\n",
    "\n",
    "for rea in tqdm(tasmax_day_ssp585.realiz.values):\n",
    "    tasmax = tasmax_day_ssp585.sel(realiz=rea, drop=True).tasmax.load()\n",
    "    tx90p_yr_ssp585 = tx90p(tasmax, tasmax_histref1960_per90, freq='YS')\n",
    "    tx90p_yr_ssp585.to_netcdf(f\"/scratch/p66/ea1694/data/stab_runs/indices/tx90p/tx90p_yr_ssp585_{rea}.nc\")"
   ]
  },
  {
   "cell_type": "markdown",
   "id": "b1df98f1-fcbe-4599-a2d0-f18296a74901",
   "metadata": {},
   "source": [
    "# ERA5"
   ]
  },
  {
   "cell_type": "code",
   "execution_count": null,
   "id": "9721b5ae-f456-40e2-bd8f-a84b363184f8",
   "metadata": {},
   "outputs": [],
   "source": [
    "era5_paths = {'hr': \"/g/data/rt52/era5/single-levels/reanalysis/\",\n",
    "             'mon': \"/g/data/rt52/era5/single-levels/monthly-averaged/\"\n",
    "            }"
   ]
  },
  {
   "cell_type": "code",
   "execution_count": null,
   "id": "f257ea0a-e002-4d6b-9900-5fb889c0efeb",
   "metadata": {
    "editable": true,
    "scrolled": true,
    "slideshow": {
     "slide_type": ""
    },
    "tags": []
   },
   "outputs": [],
   "source": [
    "%%timing\n",
    "var = '2t'\n",
    "array = []\n",
    "for yea in range (1940, 2025):\n",
    "    infiles = glob.glob(f\"{era5_paths['hr']}{var}/{yea}/*.nc\", recursive=True)\n",
    "    array.append(xr.open_mfdataset(infiles, use_cftime=True, data_vars=\"minimal\", coords=\"minimal\", parallel=True, compat=\"override\"))\n",
    "tas_day_era = xr.concat(array, dim='time')\n",
    "tas_day_era = tas_day_era.rename({'t2m':'tas', 'longitude': 'lon', 'latitude': 'lat'})"
   ]
  },
  {
   "cell_type": "code",
   "execution_count": null,
   "id": "f6c65db3-daf4-4a89-a10a-f818dfeb35d5",
   "metadata": {
    "scrolled": true
   },
   "outputs": [],
   "source": [
    "%%timing\n",
    "for yea in tqdm(range(1940, 2025)):\n",
    "    tas_yr = tas_day_era.where(tas_day_era.time.dt.year == yea, drop=True).tas.resample(time='Y').mean()\n",
    "    tas_yr = tas_yr.compute()\n",
    "    tas_yr.to_netcdf(f\"/g/data/ob22/ea1694/data/era5/tas/tas_yr_era_{yea}.nc\")"
   ]
  },
  {
   "cell_type": "code",
   "execution_count": null,
   "id": "ea8548da-e832-48eb-81c3-64023b49949b",
   "metadata": {
    "editable": true,
    "scrolled": true,
    "slideshow": {
     "slide_type": ""
    },
    "tags": []
   },
   "outputs": [],
   "source": [
    "%%timing\n",
    "var = 'mx2t'\n",
    "array = []\n",
    "for yea in range (1940, 2025):\n",
    "    infiles = glob.glob(f\"{era5_paths['hr']}{var}/{yea}/*.nc\", recursive=True)\n",
    "    hr_var = xr.open_mfdataset(infiles, use_cftime=True, data_vars=\"minimal\", coords=\"minimal\", parallel=True, compat=\"override\")\n",
    "    array.append(hr_var.resample(time='1D').max()) \n",
    "tasmax_day_era = xr.concat(array, dim='time')\n",
    "tasmax_day_era = tasmax_day_era.rename({var:'tasmax', 'longitude': 'lon', 'latitude': 'lat'})"
   ]
  },
  {
   "cell_type": "code",
   "execution_count": null,
   "id": "33129651-3301-47b8-9b99-dc9e5760b269",
   "metadata": {
    "scrolled": true
   },
   "outputs": [],
   "source": [
    "%%timing\n",
    "for yea in tqdm(range(1940, 2025)):\n",
    "    txx_year = xc.indices.tx_max(tasmax_day_era.where(tasmax_day_era.time.dt.year == yea, drop=True).tasmax, freq='YS')\n",
    "    txx_year = txx_year.compute()\n",
    "    txx_year.to_netcdf(f\"/g/data/ob22/ea1694/data/era5/indices/txx_year_{yea}.nc\")"
   ]
  },
  {
   "cell_type": "code",
   "execution_count": null,
   "id": "8af76b33-54f3-40ba-96fc-299743d34133",
   "metadata": {
    "scrolled": true
   },
   "outputs": [],
   "source": [
    "%%timing\n",
    "for yea in tqdm(range(1940, 2025)):\n",
    "    txx_mon = xc.indices.tx_max(tasmax_day_era.where(tasmax_day_era.time.dt.year == yea, drop=True).tasmax, freq='MS')\n",
    "    txx_mon = txx_mon.compute()\n",
    "    txx_mon.to_netcdf(f\"/g/data/ob22/ea1694/data/era5/indices/txx_mon_{yea}.nc\")"
   ]
  },
  {
   "cell_type": "code",
   "execution_count": null,
   "id": "fa0e8bd8-8b93-4d75-ba33-813c4872bd22",
   "metadata": {},
   "outputs": [],
   "source": [
    "txx_year_era = tasmax_mon_era.resample(time='Y').max()"
   ]
  },
  {
   "cell_type": "code",
   "execution_count": null,
   "id": "b9567de2-5c9f-4d55-b371-ef2a0f91e210",
   "metadata": {
    "editable": true,
    "scrolled": true,
    "slideshow": {
     "slide_type": ""
    },
    "tags": []
   },
   "outputs": [],
   "source": [
    "%%timing\n",
    "var = 'mx2t'\n",
    "array = []\n",
    "for yea in range (1981, 1991):\n",
    "    infiles = glob.glob(f\"{era5_paths['hr']}{var}/{yea}/*.nc\", recursive=True)\n",
    "    hr_var = xr.open_mfdataset(infiles, use_cftime=True, data_vars=\"minimal\", coords=\"minimal\", parallel=True, compat=\"override\"\n",
    "                              , chunks={'latitude': 721, 'longitude': 1440})\n",
    "    array.append(hr_var.resample(time='1D').max()) \n",
    "tasmax_day_era1970 = xr.concat(array, dim='time')\n",
    "tasmax_day_era1970 = tasmax_day_era1970.rename({var:'tasmax', 'longitude': 'lon', 'latitude': 'lat'})\n",
    "tasmax_day_era1970 = tasmax_day_era1970.compute()\n",
    "tasmax_day_era1970.to_netcdf(f\"/scratch/p66/ea1694/data/era5/tasmax/tasmax_day_era1970.nc\")"
   ]
  },
  {
   "cell_type": "code",
   "execution_count": null,
   "id": "d6d688e5-5aef-464c-8dee-df09e4873799",
   "metadata": {},
   "outputs": [],
   "source": [
    "tasmax_day_eraref1960 = xr.open_mfdataset(f\"/scratch/p66/ea1694/data/era5/tasmax/tasmax_day_era19*\", use_cftime=True, parallel=True,\n",
    "                                          chunks={'lat': 103, 'lon': 36})"
   ]
  },
  {
   "cell_type": "code",
   "execution_count": null,
   "id": "a23aa6ac-1c07-4127-8e59-b95e50cbbeb4",
   "metadata": {
    "scrolled": true
   },
   "outputs": [],
   "source": [
    "from xclim.core.calendar import percentile_doy\n",
    "tasmax_eraref1960_per90 = percentile_doy(tasmax_day_eraref1960.tasmax, per=90).sel(percentiles=90)\n",
    "tasmax_eraref1960_per90 = tasmax_eraref1960_per90.compute()\n",
    "tasmax_eraref1960_per90.attrs[\"units\"] = \"K\"\n",
    "tasmax_eraref1960_per90.to_netcdf(f\"/scratch/p66/ea1694/data/era5/indices/tasmax_eraref1960_per90.nc\")"
   ]
  },
  {
   "cell_type": "code",
   "execution_count": null,
   "id": "b738de36-990b-4e9b-a95d-ebd90c9ccb36",
   "metadata": {},
   "outputs": [],
   "source": [
    "%%timing\n",
    "# yearly TX90p\n",
    "from xclim.indices import tx90p\n",
    "tasmax_eraref1960_per90 = xr.open_mfdataset(f\"/scratch/p66/ea1694/data/era5/indices/tasmax_eraref1960_per90.nc\", use_cftime=True)\n",
    "tasmax_eraref1960_per90 = tasmax_eraref1960_per90.per.load()\n",
    "var = 'mx2t'\n",
    "for yea in tqdm(range(2003, 2025)):\n",
    "    infiles = glob.glob(f\"{era5_paths['hr']}{var}/{yea}/*.nc\", recursive=True)\n",
    "    hr_var = xr.open_mfdataset(infiles, use_cftime=True, data_vars=\"minimal\", coords=\"minimal\", parallel=True, compat=\"override\")\n",
    "    tasmax = hr_var.resample(time='1D').max().rename({var:'tasmax', 'longitude': 'lon', 'latitude': 'lat'})\n",
    "    tasmax = tasmax.tasmax.load()\n",
    "    tx90p_yr_era = tx90p(tasmax, tasmax_eraref1960_per90, freq='YS')\n",
    "    tx90p_yr_era.to_netcdf(f\"/scratch/p66/ea1694/data/stab_runs/indices/tx90p/tx90p_yr_era_{yea}.nc\")"
   ]
  }
 ],
 "metadata": {
  "kernelspec": {
   "display_name": "Python [conda env:analysis3]",
   "language": "python",
   "name": "conda-env-analysis3-py"
  },
  "language_info": {
   "codemirror_mode": {
    "name": "ipython",
    "version": 3
   },
   "file_extension": ".py",
   "mimetype": "text/x-python",
   "name": "python",
   "nbconvert_exporter": "python",
   "pygments_lexer": "ipython3",
   "version": "3.10.14"
  }
 },
 "nbformat": 4,
 "nbformat_minor": 5
}
